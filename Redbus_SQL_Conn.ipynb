{
 "cells": [
  {
   "cell_type": "code",
   "execution_count": 27,
   "id": "a6bc1921-ad2c-42df-83eb-8afdb322de16",
   "metadata": {},
   "outputs": [],
   "source": [
    "#importing libraries\n",
    "import pandas as pd\n",
    "import mysql.connector\n",
    "import numpy as np"
   ]
  },
  {
   "cell_type": "code",
   "execution_count": 29,
   "id": "cf746004-1e30-479f-ae37-2ca31702f812",
   "metadata": {},
   "outputs": [
    {
     "data": {
      "text/html": [
       "<div>\n",
       "<style scoped>\n",
       "    .dataframe tbody tr th:only-of-type {\n",
       "        vertical-align: middle;\n",
       "    }\n",
       "\n",
       "    .dataframe tbody tr th {\n",
       "        vertical-align: top;\n",
       "    }\n",
       "\n",
       "    .dataframe thead th {\n",
       "        text-align: right;\n",
       "    }\n",
       "</style>\n",
       "<table border=\"1\" class=\"dataframe\">\n",
       "  <thead>\n",
       "    <tr style=\"text-align: right;\">\n",
       "      <th></th>\n",
       "      <th>Bus_name</th>\n",
       "      <th>Bus_type</th>\n",
       "      <th>Start_time</th>\n",
       "      <th>End_time</th>\n",
       "      <th>Total_duration</th>\n",
       "      <th>Price</th>\n",
       "      <th>Seats_Available</th>\n",
       "      <th>Ratings</th>\n",
       "      <th>Route_link</th>\n",
       "      <th>Route_name</th>\n",
       "    </tr>\n",
       "  </thead>\n",
       "  <tbody>\n",
       "    <tr>\n",
       "      <th>0</th>\n",
       "      <td>KSRTC (Kerala) - 52</td>\n",
       "      <td>SWIFT-GARUDA A/C SEATER BUS</td>\n",
       "      <td>12:01</td>\n",
       "      <td>19:55</td>\n",
       "      <td>07h 54m</td>\n",
       "      <td>INR 627</td>\n",
       "      <td>14 Seats available</td>\n",
       "      <td>3.5\\n101</td>\n",
       "      <td>https://www.redbus.in/bus-tickets/bangalore-to...</td>\n",
       "      <td>Bangalore to Kozhikode</td>\n",
       "    </tr>\n",
       "    <tr>\n",
       "      <th>1</th>\n",
       "      <td>KSRTC (Kerala) - 1378</td>\n",
       "      <td>AC MULTI AXLE</td>\n",
       "      <td>13:46</td>\n",
       "      <td>20:50</td>\n",
       "      <td>07h 04m</td>\n",
       "      <td>INR 729</td>\n",
       "      <td>6 Seats available</td>\n",
       "      <td>3.1\\n24</td>\n",
       "      <td>https://www.redbus.in/bus-tickets/bangalore-to...</td>\n",
       "      <td>Bangalore to Kozhikode</td>\n",
       "    </tr>\n",
       "    <tr>\n",
       "      <th>2</th>\n",
       "      <td>KSRTC (Kerala) - 235</td>\n",
       "      <td>Swift Deluxe Non AC Air Bus (2+2)</td>\n",
       "      <td>15:00</td>\n",
       "      <td>00:01</td>\n",
       "      <td>09h 01m</td>\n",
       "      <td>INR 620</td>\n",
       "      <td>26 Seats available</td>\n",
       "      <td>4.7\\n11</td>\n",
       "      <td>https://www.redbus.in/bus-tickets/bangalore-to...</td>\n",
       "      <td>Bangalore to Kozhikode</td>\n",
       "    </tr>\n",
       "    <tr>\n",
       "      <th>3</th>\n",
       "      <td>KSRTC (Kerala) - 97</td>\n",
       "      <td>Swift Deluxe Non AC Air Bus (2+2)</td>\n",
       "      <td>16:02</td>\n",
       "      <td>00:50</td>\n",
       "      <td>08h 48m</td>\n",
       "      <td>INR 567</td>\n",
       "      <td>24 Seats available</td>\n",
       "      <td>2.8\\n18</td>\n",
       "      <td>https://www.redbus.in/bus-tickets/bangalore-to...</td>\n",
       "      <td>Bangalore to Kozhikode</td>\n",
       "    </tr>\n",
       "    <tr>\n",
       "      <th>4</th>\n",
       "      <td>KSRTC (Kerala) - 171</td>\n",
       "      <td>Swift Deluxe Non AC Air Bus (2+2)</td>\n",
       "      <td>16:16</td>\n",
       "      <td>01:20</td>\n",
       "      <td>09h 04m</td>\n",
       "      <td>INR 640</td>\n",
       "      <td>12 Seats available</td>\n",
       "      <td>3.3\\n8</td>\n",
       "      <td>https://www.redbus.in/bus-tickets/bangalore-to...</td>\n",
       "      <td>Bangalore to Kozhikode</td>\n",
       "    </tr>\n",
       "    <tr>\n",
       "      <th>...</th>\n",
       "      <td>...</td>\n",
       "      <td>...</td>\n",
       "      <td>...</td>\n",
       "      <td>...</td>\n",
       "      <td>...</td>\n",
       "      <td>...</td>\n",
       "      <td>...</td>\n",
       "      <td>...</td>\n",
       "      <td>...</td>\n",
       "      <td>...</td>\n",
       "    </tr>\n",
       "    <tr>\n",
       "      <th>9438</th>\n",
       "      <td>WBTC (CTC) Habra-Midnapur - 194|07:00</td>\n",
       "      <td>Non AC Seater (2+3)</td>\n",
       "      <td>07:00</td>\n",
       "      <td>09:00</td>\n",
       "      <td>02h 00m</td>\n",
       "      <td>INR 73</td>\n",
       "      <td>21 Seats available</td>\n",
       "      <td>3.4\\n9</td>\n",
       "      <td>https://www.redbus.in/bus-tickets/barasat-west...</td>\n",
       "      <td>Barasat (West Bengal) to Mechogram</td>\n",
       "    </tr>\n",
       "    <tr>\n",
       "      <th>9439</th>\n",
       "      <td>SBSTC-HABRA - HALDIA - 06:50 (HALDIA) - 1509</td>\n",
       "      <td>Non AC Seater (2+3)</td>\n",
       "      <td>06:50</td>\n",
       "      <td>00:00</td>\n",
       "      <td>17h 10m</td>\n",
       "      <td>INR 142</td>\n",
       "      <td>47 Seats available</td>\n",
       "      <td>3.9\\n11</td>\n",
       "      <td>https://www.redbus.in/bus-tickets/habra-to-haldia</td>\n",
       "      <td>Habra to Haldia</td>\n",
       "    </tr>\n",
       "    <tr>\n",
       "      <th>9440</th>\n",
       "      <td>Santosh Bus Service</td>\n",
       "      <td>A/C Seater Push Back (2+3)</td>\n",
       "      <td>05:10</td>\n",
       "      <td>09:30</td>\n",
       "      <td>04h 20m</td>\n",
       "      <td>361</td>\n",
       "      <td>36 Seats available</td>\n",
       "      <td>4.6\\n6</td>\n",
       "      <td>https://www.redbus.in/bus-tickets/habra-to-con...</td>\n",
       "      <td>Habra to Contai (Kanthi)</td>\n",
       "    </tr>\n",
       "    <tr>\n",
       "      <th>9441</th>\n",
       "      <td>WBTC (CTC) Habra-Midnapur - 194|05:55</td>\n",
       "      <td>Non AC Seater (2+3)</td>\n",
       "      <td>05:55</td>\n",
       "      <td>10:15</td>\n",
       "      <td>04h 20m</td>\n",
       "      <td>INR 138</td>\n",
       "      <td>21 Seats available</td>\n",
       "      <td>4.1\\n21</td>\n",
       "      <td>https://www.redbus.in/bus-tickets/habra-to-mid...</td>\n",
       "      <td>Habra to Midnapore</td>\n",
       "    </tr>\n",
       "    <tr>\n",
       "      <th>9442</th>\n",
       "      <td>SBSTC-HABRA - MIDNAPUR - 06:20 (MID DEPOT) - 1398</td>\n",
       "      <td>Non AC Seater (2+3)</td>\n",
       "      <td>06:20</td>\n",
       "      <td>00:00</td>\n",
       "      <td>17h 40m</td>\n",
       "      <td>INR 143</td>\n",
       "      <td>39 Seats available</td>\n",
       "      <td>4.5\\n18</td>\n",
       "      <td>https://www.redbus.in/bus-tickets/habra-to-mid...</td>\n",
       "      <td>Habra to Midnapore</td>\n",
       "    </tr>\n",
       "  </tbody>\n",
       "</table>\n",
       "<p>9443 rows × 10 columns</p>\n",
       "</div>"
      ],
      "text/plain": [
       "                                               Bus_name  \\\n",
       "0                                   KSRTC (Kerala) - 52   \n",
       "1                                 KSRTC (Kerala) - 1378   \n",
       "2                                  KSRTC (Kerala) - 235   \n",
       "3                                   KSRTC (Kerala) - 97   \n",
       "4                                  KSRTC (Kerala) - 171   \n",
       "...                                                 ...   \n",
       "9438              WBTC (CTC) Habra-Midnapur - 194|07:00   \n",
       "9439       SBSTC-HABRA - HALDIA - 06:50 (HALDIA) - 1509   \n",
       "9440                                Santosh Bus Service   \n",
       "9441              WBTC (CTC) Habra-Midnapur - 194|05:55   \n",
       "9442  SBSTC-HABRA - MIDNAPUR - 06:20 (MID DEPOT) - 1398   \n",
       "\n",
       "                               Bus_type Start_time End_time Total_duration  \\\n",
       "0           SWIFT-GARUDA A/C SEATER BUS      12:01    19:55        07h 54m   \n",
       "1                         AC MULTI AXLE      13:46    20:50        07h 04m   \n",
       "2     Swift Deluxe Non AC Air Bus (2+2)      15:00    00:01        09h 01m   \n",
       "3     Swift Deluxe Non AC Air Bus (2+2)      16:02    00:50        08h 48m   \n",
       "4     Swift Deluxe Non AC Air Bus (2+2)      16:16    01:20        09h 04m   \n",
       "...                                 ...        ...      ...            ...   \n",
       "9438                Non AC Seater (2+3)      07:00    09:00        02h 00m   \n",
       "9439                Non AC Seater (2+3)      06:50    00:00        17h 10m   \n",
       "9440         A/C Seater Push Back (2+3)      05:10    09:30        04h 20m   \n",
       "9441                Non AC Seater (2+3)      05:55    10:15        04h 20m   \n",
       "9442                Non AC Seater (2+3)      06:20    00:00        17h 40m   \n",
       "\n",
       "        Price     Seats_Available   Ratings  \\\n",
       "0     INR 627  14 Seats available  3.5\\n101   \n",
       "1     INR 729   6 Seats available   3.1\\n24   \n",
       "2     INR 620  26 Seats available   4.7\\n11   \n",
       "3     INR 567  24 Seats available   2.8\\n18   \n",
       "4     INR 640  12 Seats available    3.3\\n8   \n",
       "...       ...                 ...       ...   \n",
       "9438   INR 73  21 Seats available    3.4\\n9   \n",
       "9439  INR 142  47 Seats available   3.9\\n11   \n",
       "9440      361  36 Seats available    4.6\\n6   \n",
       "9441  INR 138  21 Seats available   4.1\\n21   \n",
       "9442  INR 143  39 Seats available   4.5\\n18   \n",
       "\n",
       "                                             Route_link  \\\n",
       "0     https://www.redbus.in/bus-tickets/bangalore-to...   \n",
       "1     https://www.redbus.in/bus-tickets/bangalore-to...   \n",
       "2     https://www.redbus.in/bus-tickets/bangalore-to...   \n",
       "3     https://www.redbus.in/bus-tickets/bangalore-to...   \n",
       "4     https://www.redbus.in/bus-tickets/bangalore-to...   \n",
       "...                                                 ...   \n",
       "9438  https://www.redbus.in/bus-tickets/barasat-west...   \n",
       "9439  https://www.redbus.in/bus-tickets/habra-to-haldia   \n",
       "9440  https://www.redbus.in/bus-tickets/habra-to-con...   \n",
       "9441  https://www.redbus.in/bus-tickets/habra-to-mid...   \n",
       "9442  https://www.redbus.in/bus-tickets/habra-to-mid...   \n",
       "\n",
       "                              Route_name  \n",
       "0                 Bangalore to Kozhikode  \n",
       "1                 Bangalore to Kozhikode  \n",
       "2                 Bangalore to Kozhikode  \n",
       "3                 Bangalore to Kozhikode  \n",
       "4                 Bangalore to Kozhikode  \n",
       "...                                  ...  \n",
       "9438  Barasat (West Bengal) to Mechogram  \n",
       "9439                     Habra to Haldia  \n",
       "9440            Habra to Contai (Kanthi)  \n",
       "9441                  Habra to Midnapore  \n",
       "9442                  Habra to Midnapore  \n",
       "\n",
       "[9443 rows x 10 columns]"
      ]
     },
     "execution_count": 29,
     "metadata": {},
     "output_type": "execute_result"
    }
   ],
   "source": [
    "# csv to dataframe\n",
    "df_buses_1=pd.read_csv(\"df_buses_1.csv\")\n",
    "df_buses_2=pd.read_csv(\"df_buses_2.csv\")\n",
    "df_buses_3=pd.read_csv(\"df_buses_3.csv\")\n",
    "df_buses_4=pd.read_csv(\"df_buses_4.csv\")\n",
    "df_buses_5=pd.read_csv(\"df_buses_5.csv\")\n",
    "df_buses_6=pd.read_csv(\"df_buses_6.csv\")\n",
    "df_buses_7=pd.read_csv(\"df_buses_7.csv\")\n",
    "df_buses_8=pd.read_csv(\"df_buses_8.csv\")\n",
    "df_buses_9=pd.read_csv(\"df_buses_9.csv\")\n",
    "df_buses_10=pd.read_csv(\"df_buses_10.csv\")\n",
    "\n",
    "Final_df=pd.concat([df_buses_1,df_buses_2,df_buses_3,df_buses_4,df_buses_5,df_buses_6,\n",
    "                    df_buses_7,df_buses_8,df_buses_9,df_buses_10],ignore_index=True)\n",
    "Final_df"
   ]
  },
  {
   "cell_type": "markdown",
   "id": "3931837b-589b-4dd7-8fbc-821511189f11",
   "metadata": {},
   "source": [
    "# Data cleaning"
   ]
  },
  {
   "cell_type": "code",
   "execution_count": 32,
   "id": "67ed149f-d9b2-417a-8e5d-c3d75ca9ff0d",
   "metadata": {},
   "outputs": [
    {
     "name": "stdout",
     "output_type": "stream",
     "text": [
      "<class 'pandas.core.frame.DataFrame'>\n",
      "RangeIndex: 9443 entries, 0 to 9442\n",
      "Data columns (total 10 columns):\n",
      " #   Column           Non-Null Count  Dtype \n",
      "---  ------           --------------  ----- \n",
      " 0   Bus_name         9429 non-null   object\n",
      " 1   Bus_type         9429 non-null   object\n",
      " 2   Start_time       9429 non-null   object\n",
      " 3   End_time         9429 non-null   object\n",
      " 4   Total_duration   9429 non-null   object\n",
      " 5   Price            9429 non-null   object\n",
      " 6   Seats_Available  9429 non-null   object\n",
      " 7   Ratings          9429 non-null   object\n",
      " 8   Route_link       9443 non-null   object\n",
      " 9   Route_name       9443 non-null   object\n",
      "dtypes: object(10)\n",
      "memory usage: 737.9+ KB\n"
     ]
    }
   ],
   "source": [
    "# data about the data\n",
    "Final_df.info()"
   ]
  },
  {
   "cell_type": "code",
   "execution_count": 34,
   "id": "382d5e7e-b543-481d-931d-9431df454326",
   "metadata": {},
   "outputs": [
    {
     "data": {
      "text/plain": [
       "0       627.0\n",
       "1       729.0\n",
       "2       620.0\n",
       "3       567.0\n",
       "4       640.0\n",
       "        ...  \n",
       "9438     73.0\n",
       "9439    142.0\n",
       "9440    361.0\n",
       "9441    138.0\n",
       "9442    143.0\n",
       "Name: Price, Length: 9443, dtype: float64"
      ]
     },
     "execution_count": 34,
     "metadata": {},
     "output_type": "execute_result"
    }
   ],
   "source": [
    "#convert prices to numeric\n",
    "Final_df[\"Price\"]=Final_df[\"Price\"].str.replace(\"INR\",\"\")\n",
    "Final_df[\"Price\"]=Final_df[\"Price\"].astype(float)\n",
    "Final_df[\"Price\"].fillna(0) "
   ]
  },
  {
   "cell_type": "code",
   "execution_count": 36,
   "id": "f870023b-a020-45a1-9a97-77fd6bb8554b",
   "metadata": {},
   "outputs": [
    {
     "name": "stderr",
     "output_type": "stream",
     "text": [
      "C:\\Users\\sneka\\AppData\\Local\\Temp\\ipykernel_28196\\709375803.py:6: FutureWarning: A value is trying to be set on a copy of a DataFrame or Series through chained assignment using an inplace method.\n",
      "The behavior will change in pandas 3.0. This inplace method will never work because the intermediate object on which we are setting values always behaves as a copy.\n",
      "\n",
      "For example, when doing 'df[col].method(value, inplace=True)', try using 'df.method({col: value}, inplace=True)' or df[col] = df[col].method(value) instead, to perform the operation inplace on the original object.\n",
      "\n",
      "\n",
      "  Final_df[\"Ratings\"].fillna(0,inplace=True)\n"
     ]
    }
   ],
   "source": [
    "#convert Ratings to numeric\n",
    "Final_df[\"Ratings\"]=Final_df[\"Ratings\"].str.replace(\"New\",\"\")\n",
    "Final_df[\"Ratings\"]=Final_df[\"Ratings\"].str.strip()\n",
    "Final_df[\"Ratings\"]=Final_df[\"Ratings\"].str.split().str[0]\n",
    "Final_df[\"Ratings\"] = pd.to_numeric(Final_df[\"Ratings\"], errors='coerce')\n",
    "Final_df[\"Ratings\"].fillna(0,inplace=True) "
   ]
  },
  {
   "cell_type": "code",
   "execution_count": 38,
   "id": "caf93aa5-9c7a-41e3-a808-22477d0e1732",
   "metadata": {},
   "outputs": [
    {
     "name": "stdout",
     "output_type": "stream",
     "text": [
      "<class 'pandas.core.frame.DataFrame'>\n",
      "RangeIndex: 9443 entries, 0 to 9442\n",
      "Data columns (total 10 columns):\n",
      " #   Column           Non-Null Count  Dtype  \n",
      "---  ------           --------------  -----  \n",
      " 0   Bus_name         9429 non-null   object \n",
      " 1   Bus_type         9429 non-null   object \n",
      " 2   Start_time       9429 non-null   object \n",
      " 3   End_time         9429 non-null   object \n",
      " 4   Total_duration   9429 non-null   object \n",
      " 5   Price            9429 non-null   float64\n",
      " 6   Seats_Available  9429 non-null   object \n",
      " 7   Ratings          9443 non-null   float64\n",
      " 8   Route_link       9443 non-null   object \n",
      " 9   Route_name       9443 non-null   object \n",
      "dtypes: float64(2), object(8)\n",
      "memory usage: 737.9+ KB\n"
     ]
    }
   ],
   "source": [
    "# info after the data type change\n",
    "Final_df.info()"
   ]
  },
  {
   "cell_type": "code",
   "execution_count": 40,
   "id": "1c0196a7-8ec5-4180-90b9-b99b9e9b7d5c",
   "metadata": {},
   "outputs": [],
   "source": [
    "Final_df = Final_df[Final_df[\"Price\"] <= 7000]"
   ]
  },
  {
   "cell_type": "code",
   "execution_count": 42,
   "id": "8b76656b-47f2-41f9-8e3a-d93869dc5de3",
   "metadata": {},
   "outputs": [],
   "source": [
    "# replacing the nan value\n",
    "Final_df = Final_df.replace({np.nan: None})"
   ]
  },
  {
   "cell_type": "code",
   "execution_count": 44,
   "id": "5f700c49-214d-4036-8c00-745b1f965f97",
   "metadata": {},
   "outputs": [],
   "source": [
    "# change dataframe to csv\n",
    "path=r\"C:/Users/sneka/OneDrive/Desktop/Redbus project/Final_busdetails_df.csv\"\n",
    "Final_df.to_csv(path,index=False)  "
   ]
  },
  {
   "cell_type": "markdown",
   "id": "087c2a16-545c-4d6b-8c5a-74227979fcb9",
   "metadata": {},
   "source": [
    "# Create a mysql database"
   ]
  },
  {
   "cell_type": "code",
   "execution_count": 47,
   "id": "0180e895-341b-4355-9cb5-5c6cb79b97c8",
   "metadata": {},
   "outputs": [],
   "source": [
    "#sql connection\n",
    "conn=mysql.connector.connect(host=\"localhost\", user=\"sneka\", password=\"root\",database=\"RED_BUS_DETAILS\")\n",
    "my_cursor = conn.cursor()\n",
    "my_cursor.execute(\"CREATE DATABASE IF NOT EXISTS RED_BUS_DETAILS\")"
   ]
  },
  {
   "cell_type": "code",
   "execution_count": 49,
   "id": "10665a84-8095-431c-889f-0c6a279b9ae5",
   "metadata": {},
   "outputs": [
    {
     "name": "stdout",
     "output_type": "stream",
     "text": [
      "Table Created successfully\n"
     ]
    }
   ],
   "source": [
    "# Table Creation\n",
    "my_cursor.execute('''CREATE TABLE IF NOT EXISTS bus_details(\n",
    "                  ID INT AUTO_INCREMENT PRIMARY KEY,\n",
    "                  Bus_name VARCHAR(255) NOT NULL,\n",
    "                  Bus_type VARCHAR(255) NOT NULL,\n",
    "                  Start_time VARCHAR(255) NOT NULL,\n",
    "                  End_time VARCHAR(255) NOT NULL,\n",
    "                  Total_duration VARCHAR(255) NOT NULL,\n",
    "                  Price FLOAT NULL,\n",
    "                  Seats_Available VARCHAR(255) NOT NULL,\n",
    "                  Ratings Float NULL,\n",
    "                  Route_link VARCHAR(255) NULL,\n",
    "                  Route_name VARCHAR(255) NULL\n",
    "                  )''')\n",
    "print(\"Table Created successfully\")"
   ]
  },
  {
   "cell_type": "code",
   "execution_count": 51,
   "id": "05b476ad-4aea-405b-a55f-29db380a1138",
   "metadata": {},
   "outputs": [
    {
     "name": "stdout",
     "output_type": "stream",
     "text": [
      "Values inserted successfully\n"
     ]
    }
   ],
   "source": [
    "# SQL query to insert data into bus_details table\n",
    "insert_query = '''INSERT INTO bus_details(\n",
    "                    Bus_name,\n",
    "                    Bus_type,\n",
    "                    Start_time,\n",
    "                    End_time,\n",
    "                    Total_duration,\n",
    "                    Price,\n",
    "                    Seats_Available,\n",
    "                    Ratings,\n",
    "                    Route_link,\n",
    "                    Route_name)\n",
    "                  VALUES(%s, %s, %s, %s, %s, %s, %s, %s, %s, %s)'''\n",
    "data = Final_df.values.tolist()\n",
    "\n",
    "my_cursor.executemany(insert_query, data)\n",
    "\n",
    "conn.commit()\n",
    "\n",
    "print(\"Values inserted successfully\")"
   ]
  },
  {
   "cell_type": "code",
   "execution_count": null,
   "id": "3f801ea7-6722-4cdf-bd61-6f4adb64502e",
   "metadata": {},
   "outputs": [],
   "source": []
  }
 ],
 "metadata": {
  "kernelspec": {
   "display_name": "Python 3 (ipykernel)",
   "language": "python",
   "name": "python3"
  },
  "language_info": {
   "codemirror_mode": {
    "name": "ipython",
    "version": 3
   },
   "file_extension": ".py",
   "mimetype": "text/x-python",
   "name": "python",
   "nbconvert_exporter": "python",
   "pygments_lexer": "ipython3",
   "version": "3.12.4"
  }
 },
 "nbformat": 4,
 "nbformat_minor": 5
}
